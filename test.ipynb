{
 "cells": [
  {
   "cell_type": "code",
   "execution_count": null,
   "id": "009049f5",
   "metadata": {},
   "outputs": [],
   "source": [
    "from traffic_simulator.structure import *\n",
    "from time import sleep\n",
    "from IPython.display import display\n",
    "import ipywidgets as widgets\n",
    "from streamz.dataframe import PeriodicDataFrame\n",
    "from threading import Thread\n",
    "from ipywidgets import interact\n",
    "import pandas as pd"
   ]
  },
  {
   "cell_type": "code",
   "execution_count": null,
   "id": "1ee2b955",
   "metadata": {
    "scrolled": false
   },
   "outputs": [],
   "source": [
    "get_new_cars = lambda: randint(0, 5)\n",
    "get_size = lambda: randint(10, 50)\n",
    "get_capacities = lambda: (randint(1, 5), randint(1, 5))\n",
    "get_velocity = lambda: randint(3, 10)\n",
    "\n",
    "city = City(3, 5, 0.8, 2, 5, get_new_cars, get_size, get_capacities, get_velocity)\n",
    "city.draw()\n",
    "print(city)"
   ]
  },
  {
   "cell_type": "code",
   "execution_count": null,
   "id": "0b3185dc",
   "metadata": {},
   "outputs": [],
   "source": [
    "for i in range(1):\n",
    "    result = city.run()\n",
    "    print(city)"
   ]
  },
  {
   "cell_type": "markdown",
   "id": "fe6e1494",
   "metadata": {},
   "source": [
    "# Definir database"
   ]
  },
  {
   "cell_type": "code",
   "execution_count": null,
   "id": "b1666e1d",
   "metadata": {},
   "outputs": [],
   "source": [
    "import sqlite3\n",
    "\n",
    "#mydb = mysql.connector.connect(\n",
    "#    host=\"localhost\",\n",
    "#    user=\"localuser\",\n",
    "#    password=\"Password_0\",\n",
    "#    auth_plugin=\"mysql_native_password\",\n",
    "#    port=3306\n",
    "#)\n",
    "mydb = sqlite3.connect('traffic_simulator.db', check_same_thread=False)\n",
    "\n",
    "mycursor = mydb.cursor()\n",
    "\n",
    "#mycursor.execute(\"DROP DATABASE traffic_simulator;\")\n",
    "#mycursor.execute(\"CREATE DATABASE traffic_simulator;\")\n",
    "#mycursor.execute(\"USE traffic_simulator;\")\n",
    "\n",
    "mycursor.execute(\"DROP TABLE cities;\")\n",
    "mycursor.execute(\"DROP TABLE cars;\")\n",
    "mycursor.execute(\"DROP TABLE etl_global;\")\n",
    "mycursor.execute(\"DROP TABLE etl_cities;\")\n",
    "\n",
    "mycursor.execute(\"CREATE TABLE cities (id CHAR(36) PRIMARY KEY, steps INT, n_crossing INT, n_streets INT, n_cars INT);\")\n",
    "mycursor.execute(\"CREATE TABLE cars (city CHAR(36), id INT, on_street INT, velocity INT, odometer INT);\")\n",
    "\n",
    "mycursor.execute(\"CREATE TABLE etl_global (total INT, n_crossing INT, n_streets INT, n_cars INT, avg_velocity INT, max_odometer INT, avg_steps FLOAT, max_n_cars INT, city_max_n_cars CHAR(36));\")\n",
    "mycursor.execute(\"CREATE TABLE etl_cities (id CHAR(36) PRIMARY KEY, n_crossing INT, n_streets INT, n_cars INT, avg_velocity INT, max_odometer INT, steps INT, avg_n_cars_streets INT);\")"
   ]
  },
  {
   "cell_type": "markdown",
   "id": "0cdb1ed3",
   "metadata": {},
   "source": [
    "# Popular database"
   ]
  },
  {
   "cell_type": "code",
   "execution_count": null,
   "id": "1213b33e",
   "metadata": {},
   "outputs": [],
   "source": [
    "city_index, steps, n_crossing, n_streets, n_cars, car_results = result\n",
    "\n",
    "mycursor.execute(f\"INSERT INTO cities (id, steps, n_crossing, n_streets, n_cars) VALUES ('{city_index}', {steps}, {n_crossing}, {n_streets}, {n_cars});\")\n",
    "\n",
    "for index, on_street, velocity, odometer in car_results:\n",
    "    sql = f\"INSERT INTO cars (city, id, on_street, velocity, odometer) VALUES ('{city_index}', {index}, {on_street}, {velocity}, {odometer});\"\n",
    "    mycursor.execute(sql)"
   ]
  },
  {
   "cell_type": "markdown",
   "id": "86d31563",
   "metadata": {},
   "source": [
    "# Popular ETL"
   ]
  },
  {
   "cell_type": "code",
   "execution_count": null,
   "id": "38ccfbc5",
   "metadata": {},
   "outputs": [],
   "source": [
    "mycursor.execute(\"SELECT COUNT(id) FROM cities;\")\n",
    "\n",
    "total = int(mycursor.fetchone()[0])\n",
    "\n",
    "mycursor.execute(\"SELECT SUM(n_crossing) FROM cities;\")\n",
    "\n",
    "n_crossing = int(mycursor.fetchone()[0])\n",
    "\n",
    "mycursor.execute(\"SELECT SUM(n_streets) FROM cities;\")\n",
    "\n",
    "n_streets = int(mycursor.fetchone()[0])\n",
    "\n",
    "mycursor.execute(\"SELECT SUM(n_cars) FROM cities;\")\n",
    "\n",
    "n_cars = int(mycursor.fetchone()[0])\n",
    "\n",
    "mycursor.execute(\"SELECT AVG(velocity) FROM cars;\")\n",
    "\n",
    "avg_velocity = int(mycursor.fetchone()[0])\n",
    "\n",
    "mycursor.execute(\"SELECT MAX(odometer) FROM cars;\")\n",
    "\n",
    "max_odometer = int(mycursor.fetchone()[0])\n",
    "\n",
    "mycursor.execute(\"SELECT AVG(steps) FROM cities;\")\n",
    "\n",
    "avg_steps = int(mycursor.fetchone()[0])\n",
    "\n",
    "mycursor.execute(\"SELECT MAX(n_cars) FROM cities;\")\n",
    "\n",
    "max_n_cars = int(mycursor.fetchone()[0])\n",
    "\n",
    "mycursor.execute(f\"SELECT id FROM cities WHERE n_cars = {max_n_cars};\")\n",
    "\n",
    "city_max_n_cars = str(mycursor.fetchone()[0])\n",
    "\n",
    "mycursor.execute(f\"INSERT INTO etl_global (total, n_crossing, n_streets, n_cars, avg_velocity, max_odometer, avg_steps, max_n_cars, city_max_n_cars) VALUES ({total}, {n_crossing}, {n_streets}, {n_cars}, {avg_velocity}, {max_odometer}, {avg_steps}, {max_n_cars}, '{city_max_n_cars}');\")\n",
    "\n",
    "mycursor.execute(f\"SELECT * FROM cities;\")\n",
    "\n",
    "results = mycursor.fetchall()\n",
    "\n",
    "for index, steps, n_crossing, n_streets, n_cars in results:\n",
    "    index, steps, n_crossing, n_streets, n_cars = str(index), int(steps), int(n_crossing), int(n_streets), int(n_cars)\n",
    "    \n",
    "    mycursor.execute(f\"SELECT AVG(velocity) FROM cars WHERE city = '{index}';\")\n",
    "\n",
    "    avg_velocity = int(mycursor.fetchone()[0])\n",
    "\n",
    "    mycursor.execute(f\"SELECT MAX(odometer) FROM cars WHERE city = '{index}';\")\n",
    "\n",
    "    max_odometer = int(mycursor.fetchone()[0])\n",
    "    \n",
    "    avg_n_cars_streets = n_cars / n_streets\n",
    "    \n",
    "    mycursor.execute(f\"INSERT INTO etl_cities (id, n_crossing, n_streets, n_cars, avg_velocity, max_odometer, steps, avg_n_cars_streets) VALUES ('{index}', {n_crossing}, {n_streets}, {n_cars}, {avg_velocity}, {max_odometer}, {steps}, {avg_n_cars_streets});\")"
   ]
  },
  {
   "cell_type": "code",
   "execution_count": null,
   "id": "5ebf88c6",
   "metadata": {},
   "outputs": [],
   "source": [
    "delay = 0.5\n",
    "report_type = 'Global'\n",
    "\n",
    "report = pd.DataFrame()\n",
    "view = PeriodicDataFrame(lambda **kwargs: report, interval=delay)\n",
    "\n",
    "mycursor.execute(f\"SELECT id FROM cities;\")\n",
    "\n",
    "cities = [city[0] for city in mycursor.fetchall()]\n",
    "\n",
    "widget = widgets.Dropdown(\n",
    "    options=['Global'] + cities,\n",
    "    value='Global',\n",
    "    description='View'\n",
    ")\n",
    "\n",
    "def on_change(change):\n",
    "    global report_type\n",
    "    \n",
    "    if change['type'] == 'change' and change['name'] == 'value':\n",
    "        report_type = change['new']\n",
    "\n",
    "widget.observe(on_change)\n",
    "def display_widget():\n",
    "    display(widget)\n",
    "    display(view)"
   ]
  },
  {
   "cell_type": "code",
   "execution_count": null,
   "id": "602269fe",
   "metadata": {},
   "outputs": [],
   "source": [
    "def get_report():\n",
    "    global report, report_type, mydb\n",
    "    \n",
    "    last_report_type = ''\n",
    "    \n",
    "    while True:\n",
    "        if report_type == 'Global':\n",
    "            report = pd.read_sql_query(\"SELECT * FROM etl_global\", mydb)\n",
    "        else:\n",
    "            report = pd.read_sql_query(f\"SELECT * FROM etl_cities WHERE id = '{report_type}'\", mydb)\n",
    "\n",
    "        last_report_type = report_type\n",
    "\n",
    "        sleep(delay)"
   ]
  },
  {
   "cell_type": "code",
   "execution_count": null,
   "id": "84c08df7",
   "metadata": {},
   "outputs": [],
   "source": [
    "Thread(target = get_report).start()\n",
    "display_widget()"
   ]
  },
  {
   "cell_type": "code",
   "execution_count": null,
   "id": "82ab474a",
   "metadata": {},
   "outputs": [],
   "source": []
  }
 ],
 "metadata": {
  "kernelspec": {
   "display_name": "Python 3 (ipykernel)",
   "language": "python",
   "name": "python3"
  },
  "language_info": {
   "codemirror_mode": {
    "name": "ipython",
    "version": 3
   },
   "file_extension": ".py",
   "mimetype": "text/x-python",
   "name": "python",
   "nbconvert_exporter": "python",
   "pygments_lexer": "ipython3",
   "version": "3.9.12"
  }
 },
 "nbformat": 4,
 "nbformat_minor": 5
}
