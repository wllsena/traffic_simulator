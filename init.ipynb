{
 "cells": [
  {
   "cell_type": "code",
   "execution_count": 1,
   "id": "009049f5",
   "metadata": {},
   "outputs": [],
   "source": [
    "from traffic_simulator.structure import *"
   ]
  },
  {
   "cell_type": "code",
   "execution_count": 2,
   "id": "1ee2b955",
   "metadata": {},
   "outputs": [
    {
     "data": {
      "image/png": "[encoded data removed]",
      "text/plain": [
       "<Figure size 432x288 with 1 Axes>"
      ]
     },
     "metadata": {},
     "output_type": "display_data"
    }
   ],
   "source": [
    "get_size = lambda: randint(10, 50)\n",
    "get_capacities = lambda: (randint(1, 5), randint(1, 5))\n",
    "get_velocity = lambda: randint(3, 10)\n",
    "\n",
    "city = City(5, 0.75, 2, get_size, get_capacities)\n",
    "city.draw()"
   ]
  },
  {
   "cell_type": "code",
   "execution_count": 3,
   "id": "2add2bfd",
   "metadata": {},
   "outputs": [
    {
     "name": "stdout",
     "output_type": "stream",
     "text": [
      "Crossing: index 0. n_streets 3. streets [0, 1, 2].\n",
      "Crossing: index 1. n_streets 3. streets [0, 3, 4].\n",
      "Crossing: index 2. n_streets 5. streets [1, 3, 5, 6, -1].\n",
      "Crossing: index 3. n_streets 3. streets [4, 5, 7].\n",
      "Crossing: index 4. n_streets 4. streets [2, 6, 7, -2].\n",
      "\n",
      "Street: index 0. size 42. crossings (0, 1). capacities (3, 4). populations [0, 0]\n",
      "Street: index 1. size 44. crossings (0, 2). capacities (3, 1). populations [0, 0]\n",
      "Street: index 2. size 34. crossings (0, 4). capacities (4, 4). populations [0, 0]\n",
      "Street: index 3. size 24. crossings (1, 2). capacities (1, 3). populations [0, 0]\n",
      "Street: index 4. size 34. crossings (1, 3). capacities (3, 5). populations [0, 0]\n",
      "Street: index 5. size 37. crossings (2, 3). capacities (5, 2). populations [0, 0]\n",
      "Street: index 6. size 38. crossings (2, 4). capacities (4, 4). populations [0, 0]\n",
      "Street: index 7. size 16. crossings (3, 4). capacities (3, 5). populations [0, 0]\n",
      "Street: index -1. size 0. crossings (-1, 2). capacities (inf, inf). populations [0, 0]\n",
      "Street: index -2. size 0. crossings (-2, 4). capacities (inf, inf). populations [0, 0]\n",
      "\n",
      "\n"
     ]
    }
   ],
   "source": [
    "print(city)"
   ]
  },
  {
   "cell_type": "code",
   "execution_count": 48,
   "id": "1e917054",
   "metadata": {},
   "outputs": [],
   "source": [
    "city.add_car(get_velocity)"
   ]
  },
  {
   "cell_type": "code",
   "execution_count": 51,
   "id": "0b3185dc",
   "metadata": {},
   "outputs": [
    {
     "name": "stdout",
     "output_type": "stream",
     "text": [
      "Crossing: index 0. n_streets 3. streets [0, 1, 2].\n",
      "Crossing: index 1. n_streets 3. streets [0, 3, 4].\n",
      "Crossing: index 2. n_streets 5. streets [1, 3, 5, 6, -1].\n",
      "Crossing: index 3. n_streets 3. streets [4, 5, 7].\n",
      "Crossing: index 4. n_streets 4. streets [2, 6, 7, -2].\n",
      "\n",
      "Street: index 0. size 42. crossings (0, 1). capacities (3, 4). populations [0, 0]\n",
      "Street: index 1. size 44. crossings (0, 2). capacities (3, 1). populations [1, 0]\n",
      "Street: index 2. size 34. crossings (0, 4). capacities (4, 4). populations [0, 1]\n",
      "Street: index 3. size 24. crossings (1, 2). capacities (1, 3). populations [0, 0]\n",
      "Street: index 4. size 34. crossings (1, 3). capacities (3, 5). populations [2, 0]\n",
      "Street: index 5. size 37. crossings (2, 3). capacities (5, 2). populations [1, 0]\n",
      "Street: index 6. size 38. crossings (2, 4). capacities (4, 4). populations [1, 0]\n",
      "Street: index 7. size 16. crossings (3, 4). capacities (3, 5). populations [0, 0]\n",
      "Street: index -1. size 0. crossings (-1, 2). capacities (inf, inf). populations [0, 3]\n",
      "Street: index -2. size 0. crossings (-2, 4). capacities (inf, inf). populations [0, 1]\n",
      "\n",
      "Car: index 2. on_street 4. direction 0. position 30. velocity 5. odometer 145.\n",
      "Car: index 4. on_street 4. direction 0. position 15. velocity 3. odometer 90.\n",
      "Car: index 5. on_street 5. direction 0. position 15. velocity 3. odometer 73.\n",
      "Car: index 6. on_street 1. direction 0. position 0. velocity 4. odometer 114.\n",
      "Car: index 8. on_street 6. direction 0. position 0. velocity 10. odometer 38.\n"
     ]
    }
   ],
   "source": [
    "result = city.update()\n",
    "print(city)"
   ]
  },
  {
   "cell_type": "code",
   "execution_count": 36,
   "id": "3e2e3335",
   "metadata": {},
   "outputs": [
    {
     "data": {
      "text/plain": [
       "(5,\n",
       " 10,\n",
       " 5,\n",
       " [(2, 5, 5, 93), (3, 2, 5, 91), (4, 5, 3, 59), (5, 4, 3, 42), (6, 6, 4, 76)])"
      ]
     },
     "execution_count": 36,
     "metadata": {},
     "output_type": "execute_result"
    }
   ],
   "source": [
    "result"
   ]
  },
  {
   "cell_type": "code",
   "execution_count": 7,
   "id": "c0189656",
   "metadata": {},
   "outputs": [
    {
     "ename": "IndexError",
     "evalue": "list index out of range",
     "output_type": "error",
     "traceback": [
      "\u001b[0;31m---------------------------------------------------------------------------\u001b[0m",
      "\u001b[0;31mIndexError\u001b[0m                                Traceback (most recent call last)",
      "Input \u001b[0;32mIn [7]\u001b[0m, in \u001b[0;36m<cell line: 1>\u001b[0;34m()\u001b[0m\n\u001b[0;32m----> 1\u001b[0m \u001b[43mcity\u001b[49m\u001b[38;5;241;43m.\u001b[39;49m\u001b[43mcars\u001b[49m\u001b[43m[\u001b[49m\u001b[38;5;241;43m-\u001b[39;49m\u001b[38;5;241;43m1\u001b[39;49m\u001b[43m]\u001b[49m\u001b[38;5;241m.\u001b[39mdestiny\n",
      "\u001b[0;31mIndexError\u001b[0m: list index out of range"
     ]
    }
   ],
   "source": [
    "city.cars[-1].destiny"
   ]
  },
  {
   "cell_type": "code",
   "execution_count": null,
   "id": "80cfc3c6",
   "metadata": {},
   "outputs": [],
   "source": []
  }
 ],
 "metadata": {
  "kernelspec": {
   "display_name": "Python 3 (ipykernel)",
   "language": "python",
   "name": "python3"
  },
  "language_info": {
   "codemirror_mode": {
    "name": "ipython",
    "version": 3
   },
   "file_extension": ".py",
   "mimetype": "text/x-python",
   "name": "python",
   "nbconvert_exporter": "python",
   "pygments_lexer": "ipython3",
   "version": "3.9.12"
  }
 },
 "nbformat": 4,
 "nbformat_minor": 5
}
