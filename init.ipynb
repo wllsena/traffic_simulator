{
 "cells": [
  {
   "cell_type": "code",
   "execution_count": 1,
   "id": "009049f5",
   "metadata": {},
   "outputs": [],
   "source": [
    "from typing import List, Tuple\n",
    "from random import choice, randint\n",
    "import networkx as nx\n",
    "import matplotlib.pyplot as plt"
   ]
  },
  {
   "cell_type": "code",
   "execution_count": 2,
   "id": "6e6c651e",
   "metadata": {},
   "outputs": [],
   "source": [
    "class Crossing:\n",
    "    index: int\n",
    "    n_streets: int\n",
    "    streets: List[int]\n",
    "    green_street: int\n",
    "        \n",
    "    def __init__(self, index: int):\n",
    "        self.index = index\n",
    "        \n",
    "        self.n_streets = 0\n",
    "        self.streets = []\n",
    "        self.green_street = 0\n",
    "        \n",
    "    def add_street(self, street: int):\n",
    "        self.n_streets += 1\n",
    "        self.streets.append(street)\n",
    "        self.green_street = street\n",
    "        \n",
    "    def update(self):\n",
    "        index = self.streets.index(self.green_street) + 1\n",
    "        \n",
    "        if index == self.n_streets:\n",
    "            index = 0\n",
    "            \n",
    "        self.green_street = self.streets[index]\n",
    "        \n",
    "    def __str__(self):\n",
    "        text = f'index: {self.index}. n_streets: {self.n_streets}. streets: {self.streets}. green_street: {self.green_street}.'\n",
    "        \n",
    "        return text"
   ]
  },
  {
   "cell_type": "code",
   "execution_count": 3,
   "id": "62e89886",
   "metadata": {},
   "outputs": [],
   "source": [
    "class Street:\n",
    "    index: int\n",
    "    size: int\n",
    "    crossings: Tuple[int, int]\n",
    "    capacities: Tuple[int, int]\n",
    "    populations: List[int]\n",
    "        \n",
    "    def __init__(self, index: int, size: int, crossings: Tuple[int, int], capacities: Tuple[int, int]):\n",
    "        self.index = index\n",
    "        self.size = size\n",
    "        self.crossings = crossings\n",
    "        self.capacities = capacities\n",
    "        \n",
    "        self.populations = [0, 0]\n",
    "\n",
    "    def __str__(self):\n",
    "        text = f'index: {self.index}. size: {self.size}. crossings: {self.crossings}. capacities: {self.capacities}. populations: {self.populations}'\n",
    "        \n",
    "        return text\n",
    "    \n",
    "    def add_car(self, car: int, direction: int):\n",
    "        self.populations[direction] += 1"
   ]
  },
  {
   "cell_type": "code",
   "execution_count": 4,
   "id": "9e6c667f",
   "metadata": {},
   "outputs": [],
   "source": [
    "class Car:\n",
    "    index: int\n",
    "    on_street: int\n",
    "    direction: int\n",
    "    position: int\n",
    "    velocity: int\n",
    "    odometer: int\n",
    "        \n",
    "    def __init__(self, index: int, on_street: int, direction: int, position: int, velocity: int):\n",
    "        self.index = index\n",
    "        self.on_street = on_street\n",
    "        self.direction = direction\n",
    "        self.position = position\n",
    "        self.velocity = velocity\n",
    "        self.odometer = 0\n",
    "        \n",
    "    def update(self, crossings: List[Crossing], streets: List[Street]):\n",
    "        street = streets[self.on_street]\n",
    "        \n",
    "        if self.position >= street.size:\n",
    "            on_crossing = street.crossings[self.direction]  \n",
    "            crossing = crossings[on_crossing]\n",
    "            \n",
    "            if crossing.green_street == self.on_street:\n",
    "                options = [street for street in crossing.streets if street != self.on_street]\n",
    "                print(options)\n",
    "                new_on_street = choice(options)\n",
    "                new_street = streets[new_on_street]\n",
    "                new_direction = 1 if new_street.crossings[0] == on_crossing else 0\n",
    "                \n",
    "                if new_street.populations[new_direction] < new_street.capacities[new_direction]:\n",
    "                    street.populations[self.direction] -= 1\n",
    "                    new_street.populations[new_direction] += 1\n",
    "                    \n",
    "                    self.on_street = new_on_street\n",
    "                    self.direction = new_direction\n",
    "                    self.position = 0\n",
    "                    self.velocty = 10\n",
    "                    \n",
    "        else:\n",
    "            self.position += self.velocity\n",
    "            self.odometer += self.velocity\n",
    "        \n",
    "    def __str__(self):\n",
    "        text = f'index: {self.index}. on_street: {self.on_street}. direction: {self.direction}. position: {self.position}. velocity: {self.velocity}. odometer: {self.odometer}.'\n",
    "        \n",
    "        return text"
   ]
  },
  {
   "cell_type": "code",
   "execution_count": 5,
   "id": "3b6d8fd6",
   "metadata": {},
   "outputs": [],
   "source": [
    "class City:\n",
    "    graph: nx.classes.graph.Graph\n",
    "    crossings: List[Crossing] \n",
    "    streets: List[Street]\n",
    "    n_cars: int\n",
    "    cars: List[Car]\n",
    "        \n",
    "    def __init__(self):\n",
    "        self.crossings = [] \n",
    "        self.streets = []\n",
    "        self.n_cars = 0\n",
    "        self.cars = []        \n",
    "        \n",
    "    def load_graph(self, graph: nx.classes.graph.Graph):\n",
    "        self.graph = graph\n",
    "        \n",
    "        for index in graph.nodes():\n",
    "            crossing = Crossing(index)\n",
    "            self.crossings.append(crossing)\n",
    "            \n",
    "            nx.set_node_attributes(self.graph, {index: index}, name='index')\n",
    "        \n",
    "        for index, (left_crossing, right_crossing, data) in enumerate(graph.edges(data=True)):\n",
    "            street = Street(index, data['size'], (left_crossing, right_crossing), (2, 2))\n",
    "            self.streets.append(street)\n",
    "            \n",
    "            self.crossings[left_crossing].add_street(index)\n",
    "            self.crossings[right_crossing].add_street(index)\n",
    "            \n",
    "            nx.set_edge_attributes(self.graph, {(left_crossing, right_crossing): index}, name='index')\n",
    "        \n",
    "        street = Street(-1, 0, (-1, 0), (None, None))\n",
    "        self.streets.append(street)\n",
    "        self.crossings[0].add_street(-1)\n",
    "        self.graph.add_edge(-1, 0, index = -1)\n",
    "        \n",
    "    def add_car(self):\n",
    "        car = Car(self.n_cars, -1, 1, 0, 10)\n",
    "        self.n_cars += 1\n",
    "        self.cars.append(car)\n",
    "        self.streets[-1].add_car(car.index, 1)\n",
    "        \n",
    "    def update(self):\n",
    "        for crossing in self.crossings:\n",
    "            crossing.update()\n",
    "        \n",
    "        for car in self.cars:\n",
    "            car.update(self.crossings, self.streets)\n",
    "            \n",
    "    def __str__(self):\n",
    "        text = ('\\n'.join(str(crossing) for crossing in self.crossings) + '\\n\\n'\n",
    "                + '\\n'.join(str(street) for street in self.streets) + '\\n\\n'\n",
    "                + '\\n'.join(str(car) for car in self.cars))\n",
    "        \n",
    "        return text\n",
    "\n",
    "    def draw(self):\n",
    "        pos = nx.spring_layout(self.graph)\n",
    "        nx.draw(self.graph, pos)\n",
    "        node_labels = nx.get_node_attributes(self.graph,'index')\n",
    "        nx.draw_networkx_labels(self.graph, pos, node_labels)\n",
    "        edge_labels = nx.get_edge_attributes(self.graph,'index')\n",
    "        nx.draw_networkx_edge_labels(self.graph, pos, edge_labels)\n",
    "        plt.show()"
   ]
  },
  {
   "cell_type": "code",
   "execution_count": 19,
   "id": "9973195f",
   "metadata": {
    "scrolled": true
   },
   "outputs": [],
   "source": [
    "from networkx.generators.random_graphs import erdos_renyi_graph\n",
    "n = 5\n",
    "p = 0.75\n",
    "g = erdos_renyi_graph(n, p)\n",
    "for (u,v,w) in g.edges(data=True):\n",
    "    w['size'] = randint(10,20)"
   ]
  },
  {
   "cell_type": "code",
   "execution_count": 20,
   "id": "1ee2b955",
   "metadata": {},
   "outputs": [
    {
     "data": {
      "image/png": "[encoded data removed]",
      "text/plain": [
       "<Figure size 432x288 with 1 Axes>"
      ]
     },
     "metadata": {},
     "output_type": "display_data"
    }
   ],
   "source": [
    "city = City()\n",
    "city.load_graph(g)\n",
    "city.draw()"
   ]
  },
  {
   "cell_type": "code",
   "execution_count": 21,
   "id": "1e917054",
   "metadata": {},
   "outputs": [],
   "source": [
    "city.add_car()"
   ]
  },
  {
   "cell_type": "code",
   "execution_count": 22,
   "id": "2add2bfd",
   "metadata": {},
   "outputs": [
    {
     "name": "stdout",
     "output_type": "stream",
     "text": [
      "index: 0. n_streets: 4. streets: [0, 1, 2, -1]. green_street: -1.\n",
      "index: 1. n_streets: 3. streets: [0, 3, 4]. green_street: 4.\n",
      "index: 2. n_streets: 4. streets: [1, 3, 5, 6]. green_street: 6.\n",
      "index: 3. n_streets: 3. streets: [2, 5, 7]. green_street: 7.\n",
      "index: 4. n_streets: 3. streets: [4, 6, 7]. green_street: 7.\n",
      "\n",
      "index: 0. size: 13. crossings: (0, 1). capacities: (2, 2). populations: [0, 0]\n",
      "index: 1. size: 11. crossings: (0, 2). capacities: (2, 2). populations: [0, 0]\n",
      "index: 2. size: 11. crossings: (0, 3). capacities: (2, 2). populations: [0, 0]\n",
      "index: 3. size: 14. crossings: (1, 2). capacities: (2, 2). populations: [0, 0]\n",
      "index: 4. size: 13. crossings: (1, 4). capacities: (2, 2). populations: [0, 0]\n",
      "index: 5. size: 12. crossings: (2, 3). capacities: (2, 2). populations: [0, 0]\n",
      "index: 6. size: 18. crossings: (2, 4). capacities: (2, 2). populations: [0, 0]\n",
      "index: 7. size: 19. crossings: (3, 4). capacities: (2, 2). populations: [0, 0]\n",
      "index: -1. size: 0. crossings: (-1, 0). capacities: (None, None). populations: [0, 1]\n",
      "\n",
      "index: 0. on_street: -1. direction: 1. position: 0. velocity: 10. odometer: 0.\n"
     ]
    }
   ],
   "source": [
    "print(city)"
   ]
  },
  {
   "cell_type": "code",
   "execution_count": 33,
   "id": "0b3185dc",
   "metadata": {},
   "outputs": [
    {
     "name": "stdout",
     "output_type": "stream",
     "text": [
      "(2, 3) 0 2 2\n",
      "[1, 3, 6]\n",
      "index: 0. n_streets: 4. streets: [0, 1, 2, -1]. green_street: 2.\n",
      "index: 1. n_streets: 3. streets: [0, 3, 4]. green_street: 3.\n",
      "index: 2. n_streets: 4. streets: [1, 3, 5, 6]. green_street: 5.\n",
      "index: 3. n_streets: 3. streets: [2, 5, 7]. green_street: 5.\n",
      "index: 4. n_streets: 3. streets: [4, 6, 7]. green_street: 6.\n",
      "\n",
      "index: 0. size: 13. crossings: (0, 1). capacities: (2, 2). populations: [0, 0]\n",
      "index: 1. size: 11. crossings: (0, 2). capacities: (2, 2). populations: [0, 0]\n",
      "index: 2. size: 11. crossings: (0, 3). capacities: (2, 2). populations: [0, 0]\n",
      "index: 3. size: 14. crossings: (1, 2). capacities: (2, 2). populations: [1, 0]\n",
      "index: 4. size: 13. crossings: (1, 4). capacities: (2, 2). populations: [0, 0]\n",
      "index: 5. size: 12. crossings: (2, 3). capacities: (2, 2). populations: [0, 0]\n",
      "index: 6. size: 18. crossings: (2, 4). capacities: (2, 2). populations: [0, 0]\n",
      "index: 7. size: 19. crossings: (3, 4). capacities: (2, 2). populations: [0, 0]\n",
      "index: -1. size: 0. crossings: (-1, 0). capacities: (None, None). populations: [0, 0]\n",
      "\n",
      "index: 0. on_street: 3. direction: 0. position: 0. velocity: 10. odometer: 40.\n"
     ]
    }
   ],
   "source": [
    "city.update()\n",
    "print(city)"
   ]
  },
  {
   "cell_type": "code",
   "execution_count": null,
   "id": "1d262568",
   "metadata": {},
   "outputs": [],
   "source": []
  },
  {
   "cell_type": "code",
   "execution_count": null,
   "id": "b5c4489c",
   "metadata": {},
   "outputs": [],
   "source": []
  },
  {
   "cell_type": "code",
   "execution_count": null,
   "id": "4e48758f",
   "metadata": {},
   "outputs": [],
   "source": []
  },
  {
   "cell_type": "code",
   "execution_count": null,
   "id": "4a23df29",
   "metadata": {},
   "outputs": [],
   "source": []
  }
 ],
 "metadata": {
  "kernelspec": {
   "display_name": "Python 3 (ipykernel)",
   "language": "python",
   "name": "python3"
  },
  "language_info": {
   "codemirror_mode": {
    "name": "ipython",
    "version": 3
   },
   "file_extension": ".py",
   "mimetype": "text/x-python",
   "name": "python",
   "nbconvert_exporter": "python",
   "pygments_lexer": "ipython3",
   "version": "3.9.12"
  }
 },
 "nbformat": 4,
 "nbformat_minor": 5
}
